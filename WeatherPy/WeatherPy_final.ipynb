{
 "cells": [
  {
   "cell_type": "markdown",
   "metadata": {},
   "source": [
    "# WeatherPy\n",
    "----\n",
    "\n",
    "#### Note\n",
    "* Instructions have been included for each segment. You do not have to follow them exactly, but they are included to help you think through the steps."
   ]
  },
  {
   "cell_type": "code",
   "execution_count": null,
   "metadata": {},
   "outputs": [],
   "source": [
    "# Obervable trends from the data\n",
    "\n",
    "# 1) Of the the 4 relationships explored, the only correlation found is between latitude and max temperature\n",
    "# 2) In the Northern Hemisphere this a strong, negative, linear relationship\n",
    "# 3) In the Southern Hemisphere this a strong, positive, linear relationship"
   ]
  },
  {
   "cell_type": "code",
   "execution_count": 22,
   "metadata": {
    "scrolled": true
   },
   "outputs": [],
   "source": [
    "# Dependencies and Setup\n",
    "import matplotlib.pyplot as plt\n",
    "import pandas as pd\n",
    "import numpy as np\n",
    "import requests\n",
    "import time\n",
    "from scipy.stats import linregress\n",
    "import scipy.stats as st\n",
    "\n",
    "# Import API key\n",
    "from api_keys import weather_api_key\n",
    "\n",
    "# Incorporated citipy to determine city based on latitude and longitude\n",
    "from citipy import citipy\n",
    "\n",
    "# Output File (CSV)\n",
    "output_data_file = \"../output_data/cities.csv\"\n",
    "\n",
    "# Range of latitudes and longitudes\n",
    "lat_range = (-90, 90)\n",
    "lng_range = (-180, 180)"
   ]
  },
  {
   "cell_type": "code",
   "execution_count": null,
   "metadata": {},
   "outputs": [],
   "source": []
  },
  {
   "cell_type": "markdown",
   "metadata": {},
   "source": [
    "## Generate Cities List"
   ]
  },
  {
   "cell_type": "code",
   "execution_count": 2,
   "metadata": {},
   "outputs": [
    {
     "data": {
      "text/plain": [
       "583"
      ]
     },
     "execution_count": 2,
     "metadata": {},
     "output_type": "execute_result"
    }
   ],
   "source": [
    "# List for holding lat_lngs and cities\n",
    "lat_lngs = []\n",
    "cities = []\n",
    "\n",
    "# Create a set of random lat and lng combinations\n",
    "lats = np.random.uniform(lat_range[0], lat_range[1], size=1500)\n",
    "lngs = np.random.uniform(lng_range[0], lng_range[1], size=1500)\n",
    "lat_lngs = zip(lats, lngs)\n",
    "\n",
    "# Identify nearest city for each lat, lng combination\n",
    "for lat_lng in lat_lngs:\n",
    "    city = citipy.nearest_city(lat_lng[0], lat_lng[1]).city_name\n",
    "    \n",
    "    # If the city is unique, then add it to a our cities list\n",
    "    if city not in cities:\n",
    "        cities.append(city)\n",
    "\n",
    "# Print the city count to confirm sufficient count\n",
    "len(cities)"
   ]
  },
  {
   "cell_type": "code",
   "execution_count": null,
   "metadata": {},
   "outputs": [],
   "source": []
  },
  {
   "cell_type": "markdown",
   "metadata": {},
   "source": [
    "### Perform API Calls\n",
    "* Perform a weather check on each city using a series of successive API calls.\n",
    "* Include a print log of each city as it'sbeing processed (with the city number and city name).\n"
   ]
  },
  {
   "cell_type": "code",
   "execution_count": 3,
   "metadata": {},
   "outputs": [],
   "source": [
    "# create base url and query url\n",
    "url = \"http://api.openweathermap.org/data/2.5/weather?\"\n",
    "units = \"imperial\"\n",
    "query_url = f\"{url}appid={weather_api_key}&units={units}&q=\""
   ]
  },
  {
   "cell_type": "code",
   "execution_count": 4,
   "metadata": {},
   "outputs": [],
   "source": [
    "# create lists for holding values\n",
    "final_cities1 = []\n",
    "city_lat1 = []\n",
    "city_long1 = []\n",
    "city_max1 = []\n",
    "city_hum1 = []\n",
    "city_cloud1 = []\n",
    "city_wind1 = []\n",
    "city_country1 = []\n",
    "city_date1 = []"
   ]
  },
  {
   "cell_type": "code",
   "execution_count": 5,
   "metadata": {},
   "outputs": [
    {
     "name": "stdout",
     "output_type": "stream",
     "text": [
      "Processing Record 0 | beringovskiy\n",
      "Processing Record 1 | rikitea\n",
      "Processing Record 2 | durant\n",
      "Processing Record 3 | punta arenas\n",
      "City not found. Skipping...\n",
      "Processing Record 5 | salalah\n",
      "Processing Record 6 | tuktoyaktuk\n",
      "Processing Record 7 | alofi\n",
      "Processing Record 8 | chumphon\n",
      "City not found. Skipping...\n",
      "Processing Record 10 | albany\n",
      "Processing Record 11 | samarai\n",
      "Processing Record 12 | nome\n",
      "Processing Record 13 | sarszentmihaly\n",
      "Processing Record 14 | new norfolk\n",
      "Processing Record 15 | surt\n",
      "Processing Record 16 | qujing\n",
      "Processing Record 17 | dikson\n",
      "Processing Record 18 | vaini\n",
      "Processing Record 19 | chipinge\n",
      "Processing Record 20 | saint-philippe\n",
      "Processing Record 21 | jamestown\n",
      "Processing Record 22 | yellowknife\n",
      "City not found. Skipping...\n",
      "Processing Record 24 | bathsheba\n",
      "Processing Record 25 | sitka\n",
      "Processing Record 26 | akyab\n",
      "Processing Record 27 | mar del plata\n",
      "City not found. Skipping...\n",
      "Processing Record 29 | high level\n",
      "Processing Record 30 | severo-kurilsk\n",
      "Processing Record 31 | lebu\n",
      "Processing Record 32 | kholbon\n",
      "Processing Record 33 | grindavik\n",
      "Processing Record 34 | bluff\n",
      "Processing Record 35 | tartus\n",
      "Processing Record 36 | kavieng\n",
      "Processing Record 37 | barrow\n",
      "Processing Record 38 | muros\n",
      "Processing Record 39 | busselton\n",
      "Processing Record 40 | tabou\n",
      "Processing Record 41 | hlobyne\n",
      "Processing Record 42 | camargo\n",
      "Processing Record 43 | ponta do sol\n",
      "Processing Record 44 | san cristobal\n",
      "Processing Record 45 | verkhneyarkeyevo\n",
      "Processing Record 46 | knysna\n",
      "City not found. Skipping...\n",
      "Processing Record 48 | port alfred\n",
      "Processing Record 49 | tasiilaq\n",
      "Processing Record 50 | tautira\n",
      "Processing Record 51 | chapleau\n",
      "Processing Record 52 | richards bay\n",
      "Processing Record 53 | ushuaia\n",
      "Processing Record 54 | college\n",
      "Processing Record 55 | north bend\n",
      "Processing Record 56 | lata\n",
      "Processing Record 57 | tombouctou\n",
      "Processing Record 58 | hasaki\n",
      "Processing Record 59 | kruisfontein\n",
      "City not found. Skipping...\n",
      "Processing Record 61 | cape town\n",
      "Processing Record 62 | upernavik\n",
      "Processing Record 63 | klaksvik\n",
      "Processing Record 64 | avarua\n",
      "City not found. Skipping...\n",
      "Processing Record 66 | ojinaga\n",
      "Processing Record 67 | ercis\n",
      "Processing Record 68 | atuona\n",
      "Processing Record 69 | abakaliki\n",
      "Processing Record 70 | krapina\n",
      "Processing Record 71 | makakilo city\n",
      "Processing Record 72 | mataura\n",
      "Processing Record 73 | coquimbo\n",
      "Processing Record 74 | araouane\n",
      "Processing Record 75 | hovd\n",
      "Processing Record 76 | le mars\n",
      "Processing Record 77 | batagay-alyta\n",
      "Processing Record 78 | xiongzhou\n",
      "Processing Record 79 | lucapa\n",
      "Processing Record 80 | kapuskasing\n",
      "Processing Record 81 | hobart\n",
      "Processing Record 82 | kodiak\n",
      "Processing Record 83 | chokurdakh\n",
      "Processing Record 84 | pimentel\n",
      "Processing Record 85 | kapaa\n",
      "Processing Record 86 | sao filipe\n",
      "City not found. Skipping...\n",
      "Processing Record 88 | taltal\n",
      "Processing Record 89 | shakawe\n",
      "City not found. Skipping...\n",
      "Processing Record 91 | maragogi\n",
      "Processing Record 92 | garowe\n",
      "Processing Record 93 | narsaq\n",
      "Processing Record 94 | tura\n",
      "Processing Record 95 | hermanus\n",
      "City not found. Skipping...\n",
      "Processing Record 97 | atar\n",
      "Processing Record 98 | naraina\n",
      "City not found. Skipping...\n",
      "Processing Record 100 | kedrovyy\n",
      "Processing Record 101 | pitimbu\n",
      "Processing Record 102 | port lincoln\n",
      "Processing Record 103 | cherskiy\n",
      "Processing Record 104 | mahebourg\n",
      "Processing Record 105 | airai\n",
      "Processing Record 106 | georgetown\n",
      "Processing Record 107 | loikaw\n",
      "Processing Record 108 | hofn\n",
      "City not found. Skipping...\n",
      "Processing Record 110 | novikovo\n",
      "Processing Record 111 | touros\n",
      "Processing Record 112 | geraldton\n",
      "Processing Record 113 | saldanha\n",
      "Processing Record 114 | kindu\n",
      "Processing Record 115 | opuwo\n",
      "City not found. Skipping...\n",
      "Processing Record 117 | turayf\n",
      "Processing Record 118 | esperance\n",
      "Processing Record 119 | hambantota\n",
      "Processing Record 120 | arraial do cabo\n",
      "Processing Record 121 | tiarei\n",
      "Processing Record 122 | almaznyy\n",
      "Processing Record 123 | bulgan\n",
      "Processing Record 124 | tiksi\n",
      "City not found. Skipping...\n",
      "Processing Record 126 | doume\n",
      "City not found. Skipping...\n",
      "Processing Record 128 | tomino\n",
      "Processing Record 129 | saskylakh\n",
      "Processing Record 130 | ancud\n",
      "Processing Record 131 | east london\n",
      "Processing Record 132 | beroroha\n",
      "Processing Record 133 | abu kamal\n",
      "Processing Record 134 | codrington\n",
      "Processing Record 135 | marivan\n",
      "Processing Record 136 | nidzica\n",
      "Processing Record 137 | korla\n",
      "Processing Record 138 | ventspils\n",
      "Processing Record 139 | jinchang\n",
      "Processing Record 140 | puerto ayora\n",
      "Processing Record 141 | tottori\n",
      "City not found. Skipping...\n",
      "Processing Record 143 | norman wells\n",
      "Processing Record 144 | te anau\n",
      "Processing Record 145 | bredasdorp\n",
      "Processing Record 146 | castro\n",
      "Processing Record 147 | jaipur\n",
      "Processing Record 148 | moen\n",
      "Processing Record 149 | juba\n",
      "Processing Record 150 | aykhal\n",
      "Processing Record 151 | chapais\n",
      "Processing Record 152 | fasa\n",
      "City not found. Skipping...\n",
      "Processing Record 154 | provideniya\n",
      "Processing Record 155 | hilo\n",
      "Processing Record 156 | valparaiso\n",
      "Processing Record 157 | kloulklubed\n",
      "Processing Record 158 | cabo san lucas\n",
      "Processing Record 159 | saiha\n",
      "Processing Record 160 | zheshart\n",
      "Processing Record 161 | seoul\n",
      "Processing Record 162 | hailey\n",
      "City not found. Skipping...\n",
      "Processing Record 164 | champerico\n",
      "City not found. Skipping...\n",
      "Processing Record 166 | taoudenni\n",
      "Processing Record 167 | khatanga\n",
      "Processing Record 168 | takayama\n",
      "Processing Record 169 | jimenez\n",
      "Processing Record 170 | moerai\n",
      "Processing Record 171 | moussoro\n",
      "Processing Record 172 | souillac\n",
      "Processing Record 173 | mapiripan\n",
      "City not found. Skipping...\n",
      "Processing Record 175 | kushima\n",
      "Processing Record 176 | port elizabeth\n",
      "Processing Record 177 | san quintin\n",
      "Processing Record 178 | guiratinga\n",
      "Processing Record 179 | tornio\n",
      "Processing Record 180 | qaanaaq\n",
      "City not found. Skipping...\n",
      "Processing Record 182 | thompson\n",
      "Processing Record 183 | xuddur\n",
      "Processing Record 184 | torbay\n",
      "Processing Record 185 | kahului\n",
      "Processing Record 186 | umm bab\n",
      "Processing Record 187 | ostrovnoy\n",
      "Processing Record 188 | biskamzha\n",
      "Processing Record 189 | bambous virieux\n",
      "Processing Record 190 | vestmannaeyjar\n",
      "Processing Record 191 | abnub\n",
      "Processing Record 192 | skibbereen\n",
      "Processing Record 193 | chopinzinho\n",
      "Processing Record 194 | qaqortoq\n",
      "Processing Record 195 | tekkali\n",
      "Processing Record 196 | honiara\n",
      "Processing Record 197 | cantilan\n",
      "Processing Record 198 | contamana\n",
      "Processing Record 199 | ahuimanu\n",
      "Processing Record 200 | careiro da varzea\n",
      "Processing Record 201 | finschhafen\n",
      "Processing Record 202 | concepcion\n",
      "Processing Record 203 | lorengau\n",
      "Processing Record 204 | bardiyah\n",
      "Processing Record 205 | bethel\n",
      "Processing Record 206 | talnakh\n",
      "Processing Record 207 | timra\n",
      "Processing Record 208 | butaritari\n",
      "Processing Record 209 | acapulco\n",
      "Processing Record 210 | homer\n",
      "Processing Record 211 | santa cruz\n",
      "Processing Record 212 | taraz\n",
      "Processing Record 213 | corn island\n",
      "Processing Record 214 | palmer\n",
      "Processing Record 215 | rocha\n",
      "Processing Record 216 | kaitangata\n",
      "Processing Record 217 | cidreira\n",
      "City not found. Skipping...\n",
      "Processing Record 219 | nelson bay\n",
      "Processing Record 220 | faanui\n",
      "Processing Record 221 | humaita\n",
      "City not found. Skipping...\n",
      "Processing Record 223 | maniitsoq\n",
      "City not found. Skipping...\n",
      "Processing Record 225 | forio\n",
      "Processing Record 226 | port blair\n",
      "Processing Record 227 | sambava\n",
      "Processing Record 228 | viedma\n",
      "Processing Record 229 | carnarvon\n",
      "City not found. Skipping...\n",
      "Processing Record 231 | sobolevo\n",
      "Processing Record 232 | suez\n",
      "City not found. Skipping...\n",
      "Processing Record 234 | les cayes\n",
      "Processing Record 235 | wanning\n",
      "Processing Record 236 | maceio\n",
      "Processing Record 237 | hay river\n",
      "City not found. Skipping...\n",
      "Processing Record 239 | warrington\n",
      "Processing Record 240 | sorland\n",
      "Processing Record 241 | iqaluit\n",
      "Processing Record 242 | somerset east\n",
      "Processing Record 243 | azul\n",
      "Processing Record 244 | suihua\n",
      "Processing Record 245 | agadez\n",
      "Processing Record 246 | aklavik\n",
      "City not found. Skipping...\n",
      "Processing Record 248 | husavik\n",
      "Processing Record 249 | kitgum\n",
      "Processing Record 250 | usinsk\n",
      "Processing Record 251 | zhanaozen\n",
      "Processing Record 252 | longyearbyen\n",
      "Processing Record 253 | laguna\n",
      "Processing Record 254 | fortuna\n",
      "Processing Record 255 | clyde river\n",
      "Processing Record 256 | sinnamary\n"
     ]
    },
    {
     "name": "stdout",
     "output_type": "stream",
     "text": [
      "Processing Record 257 | vila\n",
      "Processing Record 258 | lander\n",
      "Processing Record 259 | urucui\n",
      "Processing Record 260 | bilma\n",
      "Processing Record 261 | thinadhoo\n",
      "Processing Record 262 | vila velha\n",
      "Processing Record 263 | paamiut\n",
      "Processing Record 264 | zhangye\n",
      "Processing Record 265 | katiola\n",
      "Processing Record 266 | bobcaygeon\n",
      "Processing Record 267 | kawalu\n",
      "Processing Record 268 | nikolskoye\n",
      "Processing Record 269 | la paz\n",
      "Processing Record 270 | angoche\n",
      "Processing Record 271 | devli\n",
      "City not found. Skipping...\n",
      "Processing Record 273 | haines junction\n",
      "Processing Record 274 | yatou\n",
      "Processing Record 275 | alice springs\n",
      "Processing Record 276 | farafangana\n",
      "Processing Record 277 | yueyang\n",
      "City not found. Skipping...\n",
      "Processing Record 279 | ivybridge\n",
      "Processing Record 280 | tuatapere\n",
      "Processing Record 281 | junin\n",
      "Processing Record 282 | vestmanna\n",
      "Processing Record 283 | mount isa\n",
      "Processing Record 284 | pahrump\n",
      "Processing Record 285 | lagoa\n",
      "Processing Record 286 | coihaique\n",
      "Processing Record 287 | pangnirtung\n",
      "Processing Record 288 | lompoc\n",
      "Processing Record 289 | banda aceh\n",
      "Processing Record 290 | mutoko\n",
      "Processing Record 291 | konstantinovsk\n",
      "Processing Record 292 | birao\n",
      "Processing Record 293 | muscle shoals\n",
      "Processing Record 294 | saint-joseph\n",
      "Processing Record 295 | ahipara\n",
      "Processing Record 296 | ketchikan\n",
      "City not found. Skipping...\n",
      "Processing Record 298 | victoria\n",
      "City not found. Skipping...\n",
      "Processing Record 300 | skelleftea\n",
      "Processing Record 301 | sao felix do xingu\n",
      "Processing Record 302 | moose factory\n",
      "Processing Record 303 | tacuarembo\n",
      "Processing Record 304 | zeya\n",
      "Processing Record 305 | baykit\n",
      "Processing Record 306 | caxito\n",
      "Processing Record 307 | cururupu\n",
      "Processing Record 308 | tsaratanana\n",
      "Processing Record 309 | san ramon de la nueva oran\n",
      "City not found. Skipping...\n",
      "Processing Record 311 | ust-kulom\n",
      "City not found. Skipping...\n",
      "Processing Record 313 | claremore\n",
      "Processing Record 314 | lavrentiya\n",
      "Processing Record 315 | flinders\n",
      "Processing Record 316 | interlaken\n",
      "Processing Record 317 | kavaratti\n",
      "Processing Record 318 | cavalcante\n",
      "Processing Record 319 | shingu\n",
      "Processing Record 320 | akdepe\n",
      "City not found. Skipping...\n",
      "Processing Record 322 | sur\n",
      "Processing Record 323 | port hedland\n",
      "Processing Record 324 | quatre cocos\n",
      "City not found. Skipping...\n",
      "Processing Record 326 | camocim\n",
      "Processing Record 327 | ribeira grande\n",
      "Processing Record 328 | shimoda\n",
      "Processing Record 329 | la palma\n",
      "City not found. Skipping...\n",
      "Processing Record 331 | ilulissat\n",
      "Processing Record 332 | liwale\n",
      "Processing Record 333 | raudeberg\n",
      "Processing Record 334 | khasan\n",
      "Processing Record 335 | puerto madero\n",
      "Processing Record 336 | sinop\n",
      "Processing Record 337 | salinas\n",
      "Processing Record 338 | bengkulu\n",
      "Processing Record 339 | asasa\n",
      "City not found. Skipping...\n",
      "Processing Record 341 | luderitz\n",
      "Processing Record 342 | tanem\n",
      "Processing Record 343 | muhos\n",
      "Processing Record 344 | goderich\n",
      "Processing Record 345 | ratnagiri\n",
      "Processing Record 346 | vulcanesti\n",
      "Processing Record 347 | yanliang\n",
      "Processing Record 348 | vanimo\n",
      "Processing Record 349 | paciran\n",
      "City not found. Skipping...\n",
      "Processing Record 351 | pont-rouge\n",
      "Processing Record 352 | abbotsford\n",
      "Processing Record 353 | amuntai\n",
      "Processing Record 354 | svetlyy\n",
      "Processing Record 355 | valenca\n",
      "Processing Record 356 | kati\n",
      "Processing Record 357 | redcar\n",
      "Processing Record 358 | astaneh-ye ashrafiyeh\n",
      "Processing Record 359 | snyder\n",
      "Processing Record 360 | rawson\n",
      "Processing Record 361 | kapoeta\n",
      "Processing Record 362 | leningradskiy\n",
      "Processing Record 363 | leirvik\n",
      "Processing Record 364 | aswan\n",
      "Processing Record 365 | tandil\n",
      "Processing Record 366 | rincon\n",
      "Processing Record 367 | prieska\n",
      "Processing Record 368 | nuevitas\n",
      "Processing Record 369 | lingao\n",
      "Processing Record 370 | mount pleasant\n",
      "Processing Record 371 | queimadas\n",
      "Processing Record 372 | el fuerte\n",
      "Processing Record 373 | guerrero negro\n",
      "Processing Record 374 | zemio\n",
      "Processing Record 375 | penzance\n",
      "Processing Record 376 | teno\n",
      "Processing Record 377 | vila franca do campo\n",
      "Processing Record 378 | hithadhoo\n",
      "City not found. Skipping...\n",
      "Processing Record 380 | berbera\n",
      "Processing Record 381 | virginia beach\n",
      "Processing Record 382 | sabang\n",
      "Processing Record 383 | toropets\n",
      "Processing Record 384 | biak\n",
      "Processing Record 385 | vostok\n",
      "Processing Record 386 | severo-yeniseyskiy\n",
      "Processing Record 387 | sosnovo-ozerskoye\n",
      "Processing Record 388 | martvili\n",
      "Processing Record 389 | sakaraha\n",
      "Processing Record 390 | roald\n",
      "Processing Record 391 | voh\n",
      "Processing Record 392 | henties bay\n",
      "Processing Record 393 | espana\n",
      "Processing Record 394 | noumea\n",
      "Processing Record 395 | agadir\n",
      "Processing Record 396 | lukiv\n",
      "Processing Record 397 | ambon\n",
      "Processing Record 398 | vardo\n",
      "Processing Record 399 | bhainsa\n",
      "Processing Record 400 | praxedis guerrero\n",
      "Processing Record 401 | simpsonville\n",
      "Processing Record 402 | itoman\n",
      "Processing Record 403 | marsh harbour\n",
      "City not found. Skipping...\n",
      "Processing Record 405 | tadine\n",
      "Processing Record 406 | eirunepe\n",
      "Processing Record 407 | inta\n",
      "Processing Record 408 | witu\n",
      "Processing Record 409 | ornskoldsvik\n",
      "Processing Record 410 | calvia\n",
      "Processing Record 411 | asau\n",
      "Processing Record 412 | lubango\n",
      "Processing Record 413 | padang\n",
      "Processing Record 414 | cerkezkoy\n",
      "Processing Record 415 | kasane\n",
      "Processing Record 416 | nagapattinam\n",
      "Processing Record 417 | ullal\n",
      "Processing Record 418 | sumperk\n",
      "Processing Record 419 | cheremshanka\n",
      "Processing Record 420 | mareeba\n",
      "Processing Record 421 | ust-omchug\n",
      "Processing Record 422 | khandbari\n",
      "Processing Record 423 | quzhou\n",
      "Processing Record 424 | deputatskiy\n",
      "Processing Record 425 | shahr-e kord\n",
      "Processing Record 426 | ust-shonosha\n",
      "Processing Record 427 | olafsvik\n",
      "Processing Record 428 | kutum\n",
      "Processing Record 429 | morgan city\n",
      "Processing Record 430 | hamilton\n",
      "Processing Record 431 | nantucket\n",
      "Processing Record 432 | neuquen\n",
      "Processing Record 433 | huarmey\n",
      "Processing Record 434 | fairbanks\n",
      "Processing Record 435 | talcahuano\n",
      "Processing Record 436 | sao joao da barra\n",
      "Processing Record 437 | egvekinot\n",
      "Processing Record 438 | luancheng\n",
      "Processing Record 439 | saint-malo\n",
      "Processing Record 440 | labuhan\n",
      "Processing Record 441 | northam\n",
      "Processing Record 442 | gualaquiza\n",
      "Processing Record 443 | ada\n",
      "Processing Record 444 | valpacos\n",
      "Processing Record 445 | sinyavskoye\n",
      "Processing Record 446 | merauke\n",
      "Processing Record 447 | sept-iles\n",
      "City not found. Skipping...\n",
      "Processing Record 449 | atoyac\n",
      "Processing Record 450 | alihe\n",
      "Processing Record 451 | inirida\n",
      "Processing Record 452 | segou\n",
      "Processing Record 453 | saint george\n",
      "Processing Record 454 | hays\n",
      "Processing Record 455 | urengoy\n",
      "City not found. Skipping...\n",
      "Processing Record 457 | yulara\n",
      "Processing Record 458 | plekhanovo\n",
      "Processing Record 459 | vao\n",
      "Processing Record 460 | colac\n",
      "Processing Record 461 | norden\n",
      "City not found. Skipping...\n",
      "Processing Record 463 | burnie\n",
      "Processing Record 464 | teguise\n",
      "Processing Record 465 | jakar\n",
      "Processing Record 466 | conceicao da barra\n",
      "Processing Record 467 | wattignies\n",
      "City not found. Skipping...\n",
      "Processing Record 469 | meulaboh\n",
      "Processing Record 470 | emerald\n",
      "Processing Record 471 | dingzhou\n",
      "Processing Record 472 | jalu\n",
      "Processing Record 473 | barreiras\n",
      "Processing Record 474 | wewak\n",
      "Processing Record 475 | urumqi\n",
      "Processing Record 476 | constantine\n",
      "City not found. Skipping...\n",
      "Processing Record 478 | pasni\n",
      "Processing Record 479 | jining\n",
      "Processing Record 480 | chiscas\n",
      "Processing Record 481 | margate\n",
      "City not found. Skipping...\n",
      "Processing Record 483 | takoradi\n",
      "Processing Record 484 | havoysund\n",
      "Processing Record 485 | makarov\n",
      "Processing Record 486 | wichita falls\n",
      "Processing Record 487 | beyneu\n",
      "Processing Record 488 | neryungri\n",
      "Processing Record 489 | lazaro cardenas\n",
      "Processing Record 490 | komarikhinskiy\n",
      "City not found. Skipping...\n",
      "Processing Record 492 | abha\n",
      "Processing Record 493 | yumen\n",
      "Processing Record 494 | rebrikha\n",
      "Processing Record 495 | pitiquito\n",
      "Processing Record 496 | kopavogur\n",
      "Processing Record 497 | kidal\n",
      "Processing Record 498 | gazli\n",
      "Processing Record 499 | bereda\n",
      "Processing Record 500 | texarkana\n",
      "Processing Record 501 | denpasar\n",
      "Processing Record 502 | otavi\n",
      "Processing Record 503 | kirakira\n",
      "Processing Record 504 | lannion\n",
      "Processing Record 505 | berlevag\n",
      "Processing Record 506 | peace river\n",
      "Processing Record 507 | adrar\n"
     ]
    },
    {
     "name": "stdout",
     "output_type": "stream",
     "text": [
      "Processing Record 508 | santiago de cao\n",
      "Processing Record 509 | horta\n",
      "Processing Record 510 | olyka\n",
      "Processing Record 511 | vilyuysk\n",
      "Processing Record 512 | katherine\n",
      "Processing Record 513 | buchanan\n",
      "Processing Record 514 | ikungi\n",
      "Processing Record 515 | nanortalik\n",
      "Processing Record 516 | jefferson city\n",
      "Processing Record 517 | yerbogachen\n",
      "Processing Record 518 | payson\n",
      "Processing Record 519 | tomaszow lubelski\n",
      "Processing Record 520 | san carlos\n",
      "Processing Record 521 | olga\n",
      "Processing Record 522 | aquiraz\n",
      "Processing Record 523 | dingle\n",
      "Processing Record 524 | orito\n",
      "Processing Record 525 | mount gambier\n",
      "Processing Record 526 | marzuq\n",
      "Processing Record 527 | chitral\n",
      "Processing Record 528 | leshukonskoye\n",
      "Processing Record 529 | kankakee\n",
      "Processing Record 530 | pauini\n",
      "Processing Record 531 | aguimes\n",
      "Processing Record 532 | ovre ardal\n",
      "Processing Record 533 | macamic\n",
      "Processing Record 534 | severomuysk\n",
      "Processing Record 535 | caconda\n",
      "Processing Record 536 | gelendzhik\n",
      "Processing Record 537 | bundaberg\n",
      "Processing Record 538 | mantua\n",
      "Processing Record 539 | latur\n",
      "Processing Record 540 | biltine\n",
      "Processing Record 541 | khandyga\n",
      "Processing Record 542 | mananara\n",
      "Processing Record 543 | santa fe\n",
      "Processing Record 544 | kondinskoye\n",
      "Processing Record 545 | xai-xai\n",
      "City not found. Skipping...\n",
      "Processing Record 547 | san diego\n",
      "Processing Record 548 | nyurba\n",
      "Processing Record 549 | grand gaube\n",
      "Processing Record 550 | manitouwadge\n",
      "Processing Record 551 | chumikan\n",
      "Processing Record 552 | ampanihy\n",
      "Processing Record 553 | palu\n",
      "Processing Record 554 | dubbo\n",
      "Processing Record 555 | ciudad bolivar\n",
      "Processing Record 556 | oranjemund\n",
      "Processing Record 557 | puerto escondido\n",
      "Processing Record 558 | west plains\n",
      "Processing Record 559 | marawi\n",
      "Processing Record 560 | murowana goslina\n",
      "Processing Record 561 | teguldet\n",
      "Processing Record 562 | nevsehir\n",
      "Processing Record 563 | miraflores\n",
      "Processing Record 564 | abengourou\n",
      "Processing Record 565 | hearst\n",
      "Processing Record 566 | loukhi\n",
      "Processing Record 567 | kijang\n",
      "Processing Record 568 | qandala\n",
      "Processing Record 569 | aripuana\n",
      "Processing Record 570 | constitucion\n",
      "Processing Record 571 | colwyn bay\n",
      "Processing Record 572 | gat\n",
      "Processing Record 573 | bangassou\n",
      "Processing Record 574 | mao\n",
      "Processing Record 575 | novopokrovka\n",
      "Processing Record 576 | beauvais\n",
      "Processing Record 577 | kasulu\n",
      "City not found. Skipping...\n",
      "Processing Record 579 | santiago del estero\n",
      "Processing Record 580 | derzhavinsk\n",
      "Processing Record 581 | pevek\n",
      "Processing Record 582 | kurilsk\n"
     ]
    }
   ],
   "source": [
    "# ping the api for each city and store the response within the lists\n",
    "for index, x in enumerate(cities):\n",
    "    \n",
    "    response = requests.get(query_url + x).json()\n",
    "\n",
    "    try:\n",
    "        city_lat1.append(response[\"coord\"][\"lat\"])\n",
    "        city_long1.append(response[\"coord\"][\"lon\"])\n",
    "        city_max1.append(response[\"main\"][\"temp_max\"])\n",
    "        city_hum1.append(response[\"main\"][\"humidity\"])\n",
    "        city_cloud1.append(response[\"clouds\"][\"all\"])\n",
    "        city_wind1.append(response[\"wind\"][\"speed\"])\n",
    "        city_country1.append(response[\"sys\"][\"country\"])\n",
    "        city_date1.append(response[\"dt\"])\n",
    "        final_cities1.append(x)\n",
    "        print(f\"Processing Record {index} | {x}\")\n",
    "        \n",
    "    except: \n",
    "        print(\"City not found. Skipping...\")"
   ]
  },
  {
   "cell_type": "markdown",
   "metadata": {},
   "source": [
    "### Convert Raw Data to DataFrame\n",
    "* Export the city data into a .csv.\n",
    "* Display the DataFrame"
   ]
  },
  {
   "cell_type": "code",
   "execution_count": 6,
   "metadata": {},
   "outputs": [],
   "source": [
    "#turn lists into dictionary\n",
    "final_cities_dict1 = {\n",
    "    \"City\": final_cities1, \n",
    "    \"Lat\": city_lat1,\n",
    "    \"Lng\": city_long1, \n",
    "    \"Max Temp\": city_max1, \n",
    "    \"Humidity\": city_hum1, \n",
    "    \"Cloudiness\": city_cloud1, \n",
    "    \"Wind Speed\": city_wind1, \n",
    "    \"Country\": city_country1, \n",
    "    \"Date\": city_date1\n",
    "}"
   ]
  },
  {
   "cell_type": "code",
   "execution_count": 7,
   "metadata": {},
   "outputs": [],
   "source": [
    "#turn dictionary into dataframe\n",
    "final_cities_df = pd.DataFrame.from_dict(final_cities_dict1)"
   ]
  },
  {
   "cell_type": "code",
   "execution_count": 8,
   "metadata": {},
   "outputs": [
    {
     "data": {
      "text/html": [
       "<div>\n",
       "<style scoped>\n",
       "    .dataframe tbody tr th:only-of-type {\n",
       "        vertical-align: middle;\n",
       "    }\n",
       "\n",
       "    .dataframe tbody tr th {\n",
       "        vertical-align: top;\n",
       "    }\n",
       "\n",
       "    .dataframe thead th {\n",
       "        text-align: right;\n",
       "    }\n",
       "</style>\n",
       "<table border=\"1\" class=\"dataframe\">\n",
       "  <thead>\n",
       "    <tr style=\"text-align: right;\">\n",
       "      <th></th>\n",
       "      <th>City</th>\n",
       "      <th>Lat</th>\n",
       "      <th>Lng</th>\n",
       "      <th>Max Temp</th>\n",
       "      <th>Humidity</th>\n",
       "      <th>Cloudiness</th>\n",
       "      <th>Wind Speed</th>\n",
       "      <th>Country</th>\n",
       "      <th>Date</th>\n",
       "    </tr>\n",
       "  </thead>\n",
       "  <tbody>\n",
       "    <tr>\n",
       "      <th>0</th>\n",
       "      <td>beringovskiy</td>\n",
       "      <td>63.05</td>\n",
       "      <td>179.32</td>\n",
       "      <td>50.41</td>\n",
       "      <td>76</td>\n",
       "      <td>0</td>\n",
       "      <td>12.15</td>\n",
       "      <td>RU</td>\n",
       "      <td>1595466878</td>\n",
       "    </tr>\n",
       "    <tr>\n",
       "      <th>1</th>\n",
       "      <td>rikitea</td>\n",
       "      <td>-23.12</td>\n",
       "      <td>-134.97</td>\n",
       "      <td>66.94</td>\n",
       "      <td>65</td>\n",
       "      <td>100</td>\n",
       "      <td>14.67</td>\n",
       "      <td>PF</td>\n",
       "      <td>1595466759</td>\n",
       "    </tr>\n",
       "    <tr>\n",
       "      <th>2</th>\n",
       "      <td>durant</td>\n",
       "      <td>33.99</td>\n",
       "      <td>-96.37</td>\n",
       "      <td>87.80</td>\n",
       "      <td>58</td>\n",
       "      <td>1</td>\n",
       "      <td>12.75</td>\n",
       "      <td>US</td>\n",
       "      <td>1595466641</td>\n",
       "    </tr>\n",
       "    <tr>\n",
       "      <th>3</th>\n",
       "      <td>punta arenas</td>\n",
       "      <td>-53.15</td>\n",
       "      <td>-70.92</td>\n",
       "      <td>26.60</td>\n",
       "      <td>92</td>\n",
       "      <td>57</td>\n",
       "      <td>4.70</td>\n",
       "      <td>CL</td>\n",
       "      <td>1595466722</td>\n",
       "    </tr>\n",
       "    <tr>\n",
       "      <th>4</th>\n",
       "      <td>salalah</td>\n",
       "      <td>17.02</td>\n",
       "      <td>54.09</td>\n",
       "      <td>78.80</td>\n",
       "      <td>94</td>\n",
       "      <td>90</td>\n",
       "      <td>11.41</td>\n",
       "      <td>OM</td>\n",
       "      <td>1595466865</td>\n",
       "    </tr>\n",
       "  </tbody>\n",
       "</table>\n",
       "</div>"
      ],
      "text/plain": [
       "           City    Lat     Lng  Max Temp  Humidity  Cloudiness  Wind Speed  \\\n",
       "0  beringovskiy  63.05  179.32     50.41        76           0       12.15   \n",
       "1       rikitea -23.12 -134.97     66.94        65         100       14.67   \n",
       "2        durant  33.99  -96.37     87.80        58           1       12.75   \n",
       "3  punta arenas -53.15  -70.92     26.60        92          57        4.70   \n",
       "4       salalah  17.02   54.09     78.80        94          90       11.41   \n",
       "\n",
       "  Country        Date  \n",
       "0      RU  1595466878  \n",
       "1      PF  1595466759  \n",
       "2      US  1595466641  \n",
       "3      CL  1595466722  \n",
       "4      OM  1595466865  "
      ]
     },
     "execution_count": 8,
     "metadata": {},
     "output_type": "execute_result"
    }
   ],
   "source": [
    "final_cities_df.head()"
   ]
  },
  {
   "cell_type": "markdown",
   "metadata": {},
   "source": [
    "## Inspect the data and remove the cities where the humidity > 100%.\n",
    "----\n",
    "Skip this step if there are no cities that have humidity > 100%. "
   ]
  },
  {
   "cell_type": "code",
   "execution_count": 9,
   "metadata": {},
   "outputs": [
    {
     "data": {
      "text/html": [
       "<div>\n",
       "<style scoped>\n",
       "    .dataframe tbody tr th:only-of-type {\n",
       "        vertical-align: middle;\n",
       "    }\n",
       "\n",
       "    .dataframe tbody tr th {\n",
       "        vertical-align: top;\n",
       "    }\n",
       "\n",
       "    .dataframe thead th {\n",
       "        text-align: right;\n",
       "    }\n",
       "</style>\n",
       "<table border=\"1\" class=\"dataframe\">\n",
       "  <thead>\n",
       "    <tr style=\"text-align: right;\">\n",
       "      <th></th>\n",
       "      <th>City</th>\n",
       "      <th>Lat</th>\n",
       "      <th>Lng</th>\n",
       "      <th>Max Temp</th>\n",
       "      <th>Humidity</th>\n",
       "      <th>Cloudiness</th>\n",
       "      <th>Wind Speed</th>\n",
       "      <th>Country</th>\n",
       "      <th>Date</th>\n",
       "    </tr>\n",
       "  </thead>\n",
       "  <tbody>\n",
       "    <tr>\n",
       "      <th>11</th>\n",
       "      <td>sarszentmihaly</td>\n",
       "      <td>47.15</td>\n",
       "      <td>18.34</td>\n",
       "      <td>69.01</td>\n",
       "      <td>100</td>\n",
       "      <td>28</td>\n",
       "      <td>3.31</td>\n",
       "      <td>HU</td>\n",
       "      <td>1595466881</td>\n",
       "    </tr>\n",
       "    <tr>\n",
       "      <th>24</th>\n",
       "      <td>mar del plata</td>\n",
       "      <td>-38.00</td>\n",
       "      <td>-57.56</td>\n",
       "      <td>52.00</td>\n",
       "      <td>100</td>\n",
       "      <td>90</td>\n",
       "      <td>18.34</td>\n",
       "      <td>AR</td>\n",
       "      <td>1595466733</td>\n",
       "    </tr>\n",
       "    <tr>\n",
       "      <th>106</th>\n",
       "      <td>hambantota</td>\n",
       "      <td>6.12</td>\n",
       "      <td>81.12</td>\n",
       "      <td>77.00</td>\n",
       "      <td>100</td>\n",
       "      <td>40</td>\n",
       "      <td>2.24</td>\n",
       "      <td>LK</td>\n",
       "      <td>1595466906</td>\n",
       "    </tr>\n",
       "    <tr>\n",
       "      <th>156</th>\n",
       "      <td>port elizabeth</td>\n",
       "      <td>-33.92</td>\n",
       "      <td>25.57</td>\n",
       "      <td>55.40</td>\n",
       "      <td>100</td>\n",
       "      <td>20</td>\n",
       "      <td>12.75</td>\n",
       "      <td>ZA</td>\n",
       "      <td>1595466922</td>\n",
       "    </tr>\n",
       "    <tr>\n",
       "      <th>159</th>\n",
       "      <td>tornio</td>\n",
       "      <td>65.85</td>\n",
       "      <td>24.15</td>\n",
       "      <td>60.80</td>\n",
       "      <td>100</td>\n",
       "      <td>20</td>\n",
       "      <td>6.93</td>\n",
       "      <td>FI</td>\n",
       "      <td>1595466923</td>\n",
       "    </tr>\n",
       "    <tr>\n",
       "      <th>171</th>\n",
       "      <td>skibbereen</td>\n",
       "      <td>51.55</td>\n",
       "      <td>-9.27</td>\n",
       "      <td>57.20</td>\n",
       "      <td>100</td>\n",
       "      <td>75</td>\n",
       "      <td>12.75</td>\n",
       "      <td>IE</td>\n",
       "      <td>1595466926</td>\n",
       "    </tr>\n",
       "    <tr>\n",
       "      <th>205</th>\n",
       "      <td>carnarvon</td>\n",
       "      <td>-24.87</td>\n",
       "      <td>113.63</td>\n",
       "      <td>64.40</td>\n",
       "      <td>100</td>\n",
       "      <td>0</td>\n",
       "      <td>11.41</td>\n",
       "      <td>AU</td>\n",
       "      <td>1595466938</td>\n",
       "    </tr>\n",
       "    <tr>\n",
       "      <th>237</th>\n",
       "      <td>katiola</td>\n",
       "      <td>8.13</td>\n",
       "      <td>-5.10</td>\n",
       "      <td>75.20</td>\n",
       "      <td>100</td>\n",
       "      <td>75</td>\n",
       "      <td>9.17</td>\n",
       "      <td>CI</td>\n",
       "      <td>1595466947</td>\n",
       "    </tr>\n",
       "    <tr>\n",
       "      <th>305</th>\n",
       "      <td>muhos</td>\n",
       "      <td>64.81</td>\n",
       "      <td>25.99</td>\n",
       "      <td>60.01</td>\n",
       "      <td>100</td>\n",
       "      <td>90</td>\n",
       "      <td>13.87</td>\n",
       "      <td>FI</td>\n",
       "      <td>1595466965</td>\n",
       "    </tr>\n",
       "    <tr>\n",
       "      <th>453</th>\n",
       "      <td>denpasar</td>\n",
       "      <td>-8.65</td>\n",
       "      <td>115.22</td>\n",
       "      <td>80.60</td>\n",
       "      <td>100</td>\n",
       "      <td>40</td>\n",
       "      <td>12.75</td>\n",
       "      <td>ID</td>\n",
       "      <td>1595467003</td>\n",
       "    </tr>\n",
       "  </tbody>\n",
       "</table>\n",
       "</div>"
      ],
      "text/plain": [
       "               City    Lat     Lng  Max Temp  Humidity  Cloudiness  \\\n",
       "11   sarszentmihaly  47.15   18.34     69.01       100          28   \n",
       "24    mar del plata -38.00  -57.56     52.00       100          90   \n",
       "106      hambantota   6.12   81.12     77.00       100          40   \n",
       "156  port elizabeth -33.92   25.57     55.40       100          20   \n",
       "159          tornio  65.85   24.15     60.80       100          20   \n",
       "171      skibbereen  51.55   -9.27     57.20       100          75   \n",
       "205       carnarvon -24.87  113.63     64.40       100           0   \n",
       "237         katiola   8.13   -5.10     75.20       100          75   \n",
       "305           muhos  64.81   25.99     60.01       100          90   \n",
       "453        denpasar  -8.65  115.22     80.60       100          40   \n",
       "\n",
       "     Wind Speed Country        Date  \n",
       "11         3.31      HU  1595466881  \n",
       "24        18.34      AR  1595466733  \n",
       "106        2.24      LK  1595466906  \n",
       "156       12.75      ZA  1595466922  \n",
       "159        6.93      FI  1595466923  \n",
       "171       12.75      IE  1595466926  \n",
       "205       11.41      AU  1595466938  \n",
       "237        9.17      CI  1595466947  \n",
       "305       13.87      FI  1595466965  \n",
       "453       12.75      ID  1595467003  "
      ]
     },
     "execution_count": 9,
     "metadata": {},
     "output_type": "execute_result"
    }
   ],
   "source": [
    "#  Get the indices of cities that have humidity over 100%.\n",
    "hot_cities_df = final_cities_df[final_cities_df[\"Humidity\"] >= 100]\n",
    "hot_cities_df"
   ]
  },
  {
   "cell_type": "code",
   "execution_count": 10,
   "metadata": {},
   "outputs": [
    {
     "data": {
      "text/html": [
       "<div>\n",
       "<style scoped>\n",
       "    .dataframe tbody tr th:only-of-type {\n",
       "        vertical-align: middle;\n",
       "    }\n",
       "\n",
       "    .dataframe tbody tr th {\n",
       "        vertical-align: top;\n",
       "    }\n",
       "\n",
       "    .dataframe thead th {\n",
       "        text-align: right;\n",
       "    }\n",
       "</style>\n",
       "<table border=\"1\" class=\"dataframe\">\n",
       "  <thead>\n",
       "    <tr style=\"text-align: right;\">\n",
       "      <th></th>\n",
       "      <th>City</th>\n",
       "      <th>Lat</th>\n",
       "      <th>Lng</th>\n",
       "      <th>Max Temp</th>\n",
       "      <th>Humidity</th>\n",
       "      <th>Cloudiness</th>\n",
       "      <th>Wind Speed</th>\n",
       "      <th>Country</th>\n",
       "      <th>Date</th>\n",
       "    </tr>\n",
       "  </thead>\n",
       "  <tbody>\n",
       "    <tr>\n",
       "      <th>0</th>\n",
       "      <td>beringovskiy</td>\n",
       "      <td>63.05</td>\n",
       "      <td>179.32</td>\n",
       "      <td>50.41</td>\n",
       "      <td>76</td>\n",
       "      <td>0</td>\n",
       "      <td>12.15</td>\n",
       "      <td>RU</td>\n",
       "      <td>1595466878</td>\n",
       "    </tr>\n",
       "    <tr>\n",
       "      <th>1</th>\n",
       "      <td>rikitea</td>\n",
       "      <td>-23.12</td>\n",
       "      <td>-134.97</td>\n",
       "      <td>66.94</td>\n",
       "      <td>65</td>\n",
       "      <td>100</td>\n",
       "      <td>14.67</td>\n",
       "      <td>PF</td>\n",
       "      <td>1595466759</td>\n",
       "    </tr>\n",
       "    <tr>\n",
       "      <th>2</th>\n",
       "      <td>durant</td>\n",
       "      <td>33.99</td>\n",
       "      <td>-96.37</td>\n",
       "      <td>87.80</td>\n",
       "      <td>58</td>\n",
       "      <td>1</td>\n",
       "      <td>12.75</td>\n",
       "      <td>US</td>\n",
       "      <td>1595466641</td>\n",
       "    </tr>\n",
       "    <tr>\n",
       "      <th>3</th>\n",
       "      <td>punta arenas</td>\n",
       "      <td>-53.15</td>\n",
       "      <td>-70.92</td>\n",
       "      <td>26.60</td>\n",
       "      <td>92</td>\n",
       "      <td>57</td>\n",
       "      <td>4.70</td>\n",
       "      <td>CL</td>\n",
       "      <td>1595466722</td>\n",
       "    </tr>\n",
       "    <tr>\n",
       "      <th>4</th>\n",
       "      <td>salalah</td>\n",
       "      <td>17.02</td>\n",
       "      <td>54.09</td>\n",
       "      <td>78.80</td>\n",
       "      <td>94</td>\n",
       "      <td>90</td>\n",
       "      <td>11.41</td>\n",
       "      <td>OM</td>\n",
       "      <td>1595466865</td>\n",
       "    </tr>\n",
       "    <tr>\n",
       "      <th>...</th>\n",
       "      <td>...</td>\n",
       "      <td>...</td>\n",
       "      <td>...</td>\n",
       "      <td>...</td>\n",
       "      <td>...</td>\n",
       "      <td>...</td>\n",
       "      <td>...</td>\n",
       "      <td>...</td>\n",
       "      <td>...</td>\n",
       "    </tr>\n",
       "    <tr>\n",
       "      <th>528</th>\n",
       "      <td>kasulu</td>\n",
       "      <td>-4.58</td>\n",
       "      <td>30.10</td>\n",
       "      <td>66.20</td>\n",
       "      <td>77</td>\n",
       "      <td>0</td>\n",
       "      <td>3.49</td>\n",
       "      <td>TZ</td>\n",
       "      <td>1595467021</td>\n",
       "    </tr>\n",
       "    <tr>\n",
       "      <th>529</th>\n",
       "      <td>santiago del estero</td>\n",
       "      <td>-27.80</td>\n",
       "      <td>-64.26</td>\n",
       "      <td>59.65</td>\n",
       "      <td>46</td>\n",
       "      <td>100</td>\n",
       "      <td>3.62</td>\n",
       "      <td>AR</td>\n",
       "      <td>1595466878</td>\n",
       "    </tr>\n",
       "    <tr>\n",
       "      <th>530</th>\n",
       "      <td>derzhavinsk</td>\n",
       "      <td>51.10</td>\n",
       "      <td>66.32</td>\n",
       "      <td>68.32</td>\n",
       "      <td>66</td>\n",
       "      <td>100</td>\n",
       "      <td>18.66</td>\n",
       "      <td>KZ</td>\n",
       "      <td>1595466845</td>\n",
       "    </tr>\n",
       "    <tr>\n",
       "      <th>531</th>\n",
       "      <td>pevek</td>\n",
       "      <td>69.70</td>\n",
       "      <td>170.31</td>\n",
       "      <td>55.40</td>\n",
       "      <td>53</td>\n",
       "      <td>98</td>\n",
       "      <td>10.40</td>\n",
       "      <td>RU</td>\n",
       "      <td>1595467022</td>\n",
       "    </tr>\n",
       "    <tr>\n",
       "      <th>532</th>\n",
       "      <td>kurilsk</td>\n",
       "      <td>45.23</td>\n",
       "      <td>147.88</td>\n",
       "      <td>56.88</td>\n",
       "      <td>94</td>\n",
       "      <td>100</td>\n",
       "      <td>7.90</td>\n",
       "      <td>RU</td>\n",
       "      <td>1595467022</td>\n",
       "    </tr>\n",
       "  </tbody>\n",
       "</table>\n",
       "<p>523 rows × 9 columns</p>\n",
       "</div>"
      ],
      "text/plain": [
       "                    City    Lat     Lng  Max Temp  Humidity  Cloudiness  \\\n",
       "0           beringovskiy  63.05  179.32     50.41        76           0   \n",
       "1                rikitea -23.12 -134.97     66.94        65         100   \n",
       "2                 durant  33.99  -96.37     87.80        58           1   \n",
       "3           punta arenas -53.15  -70.92     26.60        92          57   \n",
       "4                salalah  17.02   54.09     78.80        94          90   \n",
       "..                   ...    ...     ...       ...       ...         ...   \n",
       "528               kasulu  -4.58   30.10     66.20        77           0   \n",
       "529  santiago del estero -27.80  -64.26     59.65        46         100   \n",
       "530          derzhavinsk  51.10   66.32     68.32        66         100   \n",
       "531                pevek  69.70  170.31     55.40        53          98   \n",
       "532              kurilsk  45.23  147.88     56.88        94         100   \n",
       "\n",
       "     Wind Speed Country        Date  \n",
       "0         12.15      RU  1595466878  \n",
       "1         14.67      PF  1595466759  \n",
       "2         12.75      US  1595466641  \n",
       "3          4.70      CL  1595466722  \n",
       "4         11.41      OM  1595466865  \n",
       "..          ...     ...         ...  \n",
       "528        3.49      TZ  1595467021  \n",
       "529        3.62      AR  1595466878  \n",
       "530       18.66      KZ  1595466845  \n",
       "531       10.40      RU  1595467022  \n",
       "532        7.90      RU  1595467022  \n",
       "\n",
       "[523 rows x 9 columns]"
      ]
     },
     "execution_count": 10,
     "metadata": {},
     "output_type": "execute_result"
    }
   ],
   "source": [
    "# Make a new DataFrame equal to the city data to drop all humidity outliers by index.\n",
    "final_cities_df.drop(final_cities_df[final_cities_df[\"Humidity\"] >= 100].index, inplace = True)\n",
    "final_cities_df"
   ]
  },
  {
   "cell_type": "code",
   "execution_count": 11,
   "metadata": {},
   "outputs": [],
   "source": [
    "# Export the City_Data into a csv\n",
    "final_cities_df.to_csv(output_data_file, index=False)"
   ]
  },
  {
   "cell_type": "markdown",
   "metadata": {},
   "source": [
    "## Plotting the Data\n",
    "* Use proper labeling of the plots using plot titles (including date of analysis) and axes labels.\n",
    "* Save the plotted figures as .pngs."
   ]
  },
  {
   "cell_type": "markdown",
   "metadata": {},
   "source": [
    "## Latitude vs. Temperature Plot"
   ]
  },
  {
   "cell_type": "code",
   "execution_count": 13,
   "metadata": {
    "scrolled": true
   },
   "outputs": [
    {
     "data": {
      "text/plain": [
       "<matplotlib.collections.PathCollection at 0x7f9580443650>"
      ]
     },
     "execution_count": 13,
     "metadata": {},
     "output_type": "execute_result"
    },
    {
     "data": {
      "image/png": "[encoded data removed]",
      "text/plain": [
       "<Figure size 432x288 with 1 Axes>"
      ]
     },
     "metadata": {
      "needs_background": "light"
     },
     "output_type": "display_data"
    }
   ],
   "source": [
    "# Scatterplot 1 - Latitude vs Max Temperature\n",
    "lat_max = plt.scatter(final_cities_df[\"Lat\"], final_cities_df[\"Max Temp\"])\n",
    "plt.title(\"City Latitude vs Max Temperature\")\n",
    "plt.xlabel(\"Latitude\")\n",
    "plt.ylabel(\"Max Temperature\")\n",
    "lat_max"
   ]
  },
  {
   "cell_type": "code",
   "execution_count": null,
   "metadata": {},
   "outputs": [],
   "source": [
    "#comparing latitude vs the max temperature. There seems to be a strong, non-linear relationship between the two variables that is positive when the latitude is < 0 and negative when the lat > 0"
   ]
  },
  {
   "cell_type": "markdown",
   "metadata": {},
   "source": [
    "## Latitude vs. Humidity Plot"
   ]
  },
  {
   "cell_type": "code",
   "execution_count": 14,
   "metadata": {},
   "outputs": [
    {
     "data": {
      "text/plain": [
       "<matplotlib.collections.PathCollection at 0x7f95804e78d0>"
      ]
     },
     "execution_count": 14,
     "metadata": {},
     "output_type": "execute_result"
    },
    {
     "data": {
      "image/png": "[encoded data removed]",
      "text/plain": [
       "<Figure size 432x288 with 1 Axes>"
      ]
     },
     "metadata": {
      "needs_background": "light"
     },
     "output_type": "display_data"
    }
   ],
   "source": [
    "# Scatterplot 2 - Latitude vs Humidity\n",
    "lat_hum = plt.scatter(final_cities_df[\"Lat\"], final_cities_df[\"Humidity\"])\n",
    "plt.title(\"City Latitude vs Humidity\")\n",
    "plt.xlabel(\"Latitude\")\n",
    "plt.ylabel(\"Humidity\")\n",
    "lat_hum"
   ]
  },
  {
   "cell_type": "code",
   "execution_count": null,
   "metadata": {},
   "outputs": [],
   "source": [
    "#This plot analyzes the relationship between latitude and humidity, and there doesn't appear to be a relationship. "
   ]
  },
  {
   "cell_type": "markdown",
   "metadata": {},
   "source": [
    "## Latitude vs. Cloudiness Plot"
   ]
  },
  {
   "cell_type": "code",
   "execution_count": 15,
   "metadata": {},
   "outputs": [
    {
     "data": {
      "text/plain": [
       "<matplotlib.collections.PathCollection at 0x7f958063d490>"
      ]
     },
     "execution_count": 15,
     "metadata": {},
     "output_type": "execute_result"
    },
    {
     "data": {
      "image/png": "[encoded data removed]",
      "text/plain": [
       "<Figure size 432x288 with 1 Axes>"
      ]
     },
     "metadata": {
      "needs_background": "light"
     },
     "output_type": "display_data"
    }
   ],
   "source": [
    "# Scatterplot 3 - Latitude vs Cloudiness\n",
    "lat_cloud = plt.scatter(final_cities_df[\"Lat\"], final_cities_df[\"Cloudiness\"])\n",
    "plt.title(\"City Latitude vs Cloudiness\")\n",
    "plt.xlabel(\"Latitude\")\n",
    "plt.ylabel(\"Cloudiness\")\n",
    "lat_cloud"
   ]
  },
  {
   "cell_type": "code",
   "execution_count": null,
   "metadata": {},
   "outputs": [],
   "source": [
    "#This plot analyzes the relationship between latitude and cloudiness, and there doesn't appear to be a relationship. "
   ]
  },
  {
   "cell_type": "markdown",
   "metadata": {},
   "source": [
    "## Latitude vs. Wind Speed Plot"
   ]
  },
  {
   "cell_type": "code",
   "execution_count": 16,
   "metadata": {},
   "outputs": [
    {
     "data": {
      "text/plain": [
       "<matplotlib.collections.PathCollection at 0x7f958058a890>"
      ]
     },
     "execution_count": 16,
     "metadata": {},
     "output_type": "execute_result"
    },
    {
     "data": {
      "image/png": "[encoded data removed]",
      "text/plain": [
       "<Figure size 432x288 with 1 Axes>"
      ]
     },
     "metadata": {
      "needs_background": "light"
     },
     "output_type": "display_data"
    }
   ],
   "source": [
    "# Scatterplot 4 - Latitude vs Wind Speed\n",
    "lat_wind = plt.scatter(final_cities_df[\"Lat\"], final_cities_df[\"Wind Speed\"])\n",
    "plt.title(\"City Latitude vs Wind Speed\")\n",
    "plt.xlabel(\"Latitude\")\n",
    "plt.ylabel(\"Wind Speed\")\n",
    "lat_wind"
   ]
  },
  {
   "cell_type": "code",
   "execution_count": null,
   "metadata": {},
   "outputs": [],
   "source": [
    "#This plot analyzes the relationship between latitude and wind speed, and there doesn't appear to be a relationship. "
   ]
  },
  {
   "cell_type": "markdown",
   "metadata": {},
   "source": [
    "## Linear Regression"
   ]
  },
  {
   "cell_type": "code",
   "execution_count": 17,
   "metadata": {},
   "outputs": [],
   "source": [
    "# OPTIONAL: Create a function to create Linear Regression plots\n",
    "def linear_regression_function(x_input, y_input):\n",
    "    x_values = x_input\n",
    "    y_values = y_input\n",
    "    (slope, intercept, rvalue, pvalue, stderr) = linregress(x_values, y_values)\n",
    "    regress_values = x_values * slope + intercept\n",
    "    line_eq = \"y = \" + str(round(slope,2)) + \"x + \" + str(round(intercept,2))\n",
    "    plt.scatter(x_values,y_values)\n",
    "    plt.plot(x_values,regress_values,\"r-\")\n",
    "    plt.annotate(line_eq,(6,10),fontsize=15,color=\"red\")\n",
    "    cor = st.pearsonr(x_values, y_values)\n",
    "    plt\n",
    "    print(f\"The linear regression equation is: {line_eq}\")\n",
    "    print(f\"The r-squared is: {round(cor[0],2)}\")"
   ]
  },
  {
   "cell_type": "code",
   "execution_count": 19,
   "metadata": {},
   "outputs": [
    {
     "data": {
      "text/html": [
       "<div>\n",
       "<style scoped>\n",
       "    .dataframe tbody tr th:only-of-type {\n",
       "        vertical-align: middle;\n",
       "    }\n",
       "\n",
       "    .dataframe tbody tr th {\n",
       "        vertical-align: top;\n",
       "    }\n",
       "\n",
       "    .dataframe thead th {\n",
       "        text-align: right;\n",
       "    }\n",
       "</style>\n",
       "<table border=\"1\" class=\"dataframe\">\n",
       "  <thead>\n",
       "    <tr style=\"text-align: right;\">\n",
       "      <th></th>\n",
       "      <th>City</th>\n",
       "      <th>Lat</th>\n",
       "      <th>Lng</th>\n",
       "      <th>Max Temp</th>\n",
       "      <th>Humidity</th>\n",
       "      <th>Cloudiness</th>\n",
       "      <th>Wind Speed</th>\n",
       "      <th>Country</th>\n",
       "      <th>Date</th>\n",
       "    </tr>\n",
       "  </thead>\n",
       "  <tbody>\n",
       "    <tr>\n",
       "      <th>0</th>\n",
       "      <td>beringovskiy</td>\n",
       "      <td>63.05</td>\n",
       "      <td>179.32</td>\n",
       "      <td>50.41</td>\n",
       "      <td>76</td>\n",
       "      <td>0</td>\n",
       "      <td>12.15</td>\n",
       "      <td>RU</td>\n",
       "      <td>1595466878</td>\n",
       "    </tr>\n",
       "    <tr>\n",
       "      <th>2</th>\n",
       "      <td>durant</td>\n",
       "      <td>33.99</td>\n",
       "      <td>-96.37</td>\n",
       "      <td>87.80</td>\n",
       "      <td>58</td>\n",
       "      <td>1</td>\n",
       "      <td>12.75</td>\n",
       "      <td>US</td>\n",
       "      <td>1595466641</td>\n",
       "    </tr>\n",
       "    <tr>\n",
       "      <th>4</th>\n",
       "      <td>salalah</td>\n",
       "      <td>17.02</td>\n",
       "      <td>54.09</td>\n",
       "      <td>78.80</td>\n",
       "      <td>94</td>\n",
       "      <td>90</td>\n",
       "      <td>11.41</td>\n",
       "      <td>OM</td>\n",
       "      <td>1595466865</td>\n",
       "    </tr>\n",
       "    <tr>\n",
       "      <th>5</th>\n",
       "      <td>tuktoyaktuk</td>\n",
       "      <td>69.45</td>\n",
       "      <td>-133.04</td>\n",
       "      <td>46.40</td>\n",
       "      <td>75</td>\n",
       "      <td>75</td>\n",
       "      <td>12.75</td>\n",
       "      <td>CA</td>\n",
       "      <td>1595466879</td>\n",
       "    </tr>\n",
       "    <tr>\n",
       "      <th>7</th>\n",
       "      <td>chumphon</td>\n",
       "      <td>10.33</td>\n",
       "      <td>98.83</td>\n",
       "      <td>77.00</td>\n",
       "      <td>94</td>\n",
       "      <td>20</td>\n",
       "      <td>0.67</td>\n",
       "      <td>TH</td>\n",
       "      <td>1595466880</td>\n",
       "    </tr>\n",
       "    <tr>\n",
       "      <th>...</th>\n",
       "      <td>...</td>\n",
       "      <td>...</td>\n",
       "      <td>...</td>\n",
       "      <td>...</td>\n",
       "      <td>...</td>\n",
       "      <td>...</td>\n",
       "      <td>...</td>\n",
       "      <td>...</td>\n",
       "      <td>...</td>\n",
       "    </tr>\n",
       "    <tr>\n",
       "      <th>526</th>\n",
       "      <td>novopokrovka</td>\n",
       "      <td>49.84</td>\n",
       "      <td>36.55</td>\n",
       "      <td>57.20</td>\n",
       "      <td>67</td>\n",
       "      <td>0</td>\n",
       "      <td>4.47</td>\n",
       "      <td>UA</td>\n",
       "      <td>1595467021</td>\n",
       "    </tr>\n",
       "    <tr>\n",
       "      <th>527</th>\n",
       "      <td>beauvais</td>\n",
       "      <td>49.42</td>\n",
       "      <td>2.00</td>\n",
       "      <td>55.40</td>\n",
       "      <td>76</td>\n",
       "      <td>0</td>\n",
       "      <td>3.36</td>\n",
       "      <td>FR</td>\n",
       "      <td>1595467021</td>\n",
       "    </tr>\n",
       "    <tr>\n",
       "      <th>530</th>\n",
       "      <td>derzhavinsk</td>\n",
       "      <td>51.10</td>\n",
       "      <td>66.32</td>\n",
       "      <td>68.32</td>\n",
       "      <td>66</td>\n",
       "      <td>100</td>\n",
       "      <td>18.66</td>\n",
       "      <td>KZ</td>\n",
       "      <td>1595466845</td>\n",
       "    </tr>\n",
       "    <tr>\n",
       "      <th>531</th>\n",
       "      <td>pevek</td>\n",
       "      <td>69.70</td>\n",
       "      <td>170.31</td>\n",
       "      <td>55.40</td>\n",
       "      <td>53</td>\n",
       "      <td>98</td>\n",
       "      <td>10.40</td>\n",
       "      <td>RU</td>\n",
       "      <td>1595467022</td>\n",
       "    </tr>\n",
       "    <tr>\n",
       "      <th>532</th>\n",
       "      <td>kurilsk</td>\n",
       "      <td>45.23</td>\n",
       "      <td>147.88</td>\n",
       "      <td>56.88</td>\n",
       "      <td>94</td>\n",
       "      <td>100</td>\n",
       "      <td>7.90</td>\n",
       "      <td>RU</td>\n",
       "      <td>1595467022</td>\n",
       "    </tr>\n",
       "  </tbody>\n",
       "</table>\n",
       "<p>361 rows × 9 columns</p>\n",
       "</div>"
      ],
      "text/plain": [
       "             City    Lat     Lng  Max Temp  Humidity  Cloudiness  Wind Speed  \\\n",
       "0    beringovskiy  63.05  179.32     50.41        76           0       12.15   \n",
       "2          durant  33.99  -96.37     87.80        58           1       12.75   \n",
       "4         salalah  17.02   54.09     78.80        94          90       11.41   \n",
       "5     tuktoyaktuk  69.45 -133.04     46.40        75          75       12.75   \n",
       "7        chumphon  10.33   98.83     77.00        94          20        0.67   \n",
       "..            ...    ...     ...       ...       ...         ...         ...   \n",
       "526  novopokrovka  49.84   36.55     57.20        67           0        4.47   \n",
       "527      beauvais  49.42    2.00     55.40        76           0        3.36   \n",
       "530   derzhavinsk  51.10   66.32     68.32        66         100       18.66   \n",
       "531         pevek  69.70  170.31     55.40        53          98       10.40   \n",
       "532       kurilsk  45.23  147.88     56.88        94         100        7.90   \n",
       "\n",
       "    Country        Date  \n",
       "0        RU  1595466878  \n",
       "2        US  1595466641  \n",
       "4        OM  1595466865  \n",
       "5        CA  1595466879  \n",
       "7        TH  1595466880  \n",
       "..      ...         ...  \n",
       "526      UA  1595467021  \n",
       "527      FR  1595467021  \n",
       "530      KZ  1595466845  \n",
       "531      RU  1595467022  \n",
       "532      RU  1595467022  \n",
       "\n",
       "[361 rows x 9 columns]"
      ]
     },
     "execution_count": 19,
     "metadata": {},
     "output_type": "execute_result"
    }
   ],
   "source": [
    "# Create Northern and Southern Hemisphere DataFrames\n",
    "# northern hemisphere dataframe\n",
    "northern_cities = final_cities_df[final_cities_df[\"Lat\"] > 0]\n",
    "northern_cities"
   ]
  },
  {
   "cell_type": "code",
   "execution_count": 20,
   "metadata": {},
   "outputs": [
    {
     "data": {
      "text/html": [
       "<div>\n",
       "<style scoped>\n",
       "    .dataframe tbody tr th:only-of-type {\n",
       "        vertical-align: middle;\n",
       "    }\n",
       "\n",
       "    .dataframe tbody tr th {\n",
       "        vertical-align: top;\n",
       "    }\n",
       "\n",
       "    .dataframe thead th {\n",
       "        text-align: right;\n",
       "    }\n",
       "</style>\n",
       "<table border=\"1\" class=\"dataframe\">\n",
       "  <thead>\n",
       "    <tr style=\"text-align: right;\">\n",
       "      <th></th>\n",
       "      <th>City</th>\n",
       "      <th>Lat</th>\n",
       "      <th>Lng</th>\n",
       "      <th>Max Temp</th>\n",
       "      <th>Humidity</th>\n",
       "      <th>Cloudiness</th>\n",
       "      <th>Wind Speed</th>\n",
       "      <th>Country</th>\n",
       "      <th>Date</th>\n",
       "    </tr>\n",
       "  </thead>\n",
       "  <tbody>\n",
       "    <tr>\n",
       "      <th>1</th>\n",
       "      <td>rikitea</td>\n",
       "      <td>-23.12</td>\n",
       "      <td>-134.97</td>\n",
       "      <td>66.94</td>\n",
       "      <td>65</td>\n",
       "      <td>100</td>\n",
       "      <td>14.67</td>\n",
       "      <td>PF</td>\n",
       "      <td>1595466759</td>\n",
       "    </tr>\n",
       "    <tr>\n",
       "      <th>3</th>\n",
       "      <td>punta arenas</td>\n",
       "      <td>-53.15</td>\n",
       "      <td>-70.92</td>\n",
       "      <td>26.60</td>\n",
       "      <td>92</td>\n",
       "      <td>57</td>\n",
       "      <td>4.70</td>\n",
       "      <td>CL</td>\n",
       "      <td>1595466722</td>\n",
       "    </tr>\n",
       "    <tr>\n",
       "      <th>6</th>\n",
       "      <td>alofi</td>\n",
       "      <td>-19.06</td>\n",
       "      <td>-169.92</td>\n",
       "      <td>75.20</td>\n",
       "      <td>88</td>\n",
       "      <td>75</td>\n",
       "      <td>16.11</td>\n",
       "      <td>NU</td>\n",
       "      <td>1595466807</td>\n",
       "    </tr>\n",
       "    <tr>\n",
       "      <th>9</th>\n",
       "      <td>samarai</td>\n",
       "      <td>-10.62</td>\n",
       "      <td>150.67</td>\n",
       "      <td>77.90</td>\n",
       "      <td>81</td>\n",
       "      <td>58</td>\n",
       "      <td>12.01</td>\n",
       "      <td>PG</td>\n",
       "      <td>1595466880</td>\n",
       "    </tr>\n",
       "    <tr>\n",
       "      <th>12</th>\n",
       "      <td>new norfolk</td>\n",
       "      <td>-42.78</td>\n",
       "      <td>147.06</td>\n",
       "      <td>51.01</td>\n",
       "      <td>75</td>\n",
       "      <td>100</td>\n",
       "      <td>5.01</td>\n",
       "      <td>AU</td>\n",
       "      <td>1595466787</td>\n",
       "    </tr>\n",
       "    <tr>\n",
       "      <th>...</th>\n",
       "      <td>...</td>\n",
       "      <td>...</td>\n",
       "      <td>...</td>\n",
       "      <td>...</td>\n",
       "      <td>...</td>\n",
       "      <td>...</td>\n",
       "      <td>...</td>\n",
       "      <td>...</td>\n",
       "      <td>...</td>\n",
       "    </tr>\n",
       "    <tr>\n",
       "      <th>507</th>\n",
       "      <td>oranjemund</td>\n",
       "      <td>-28.55</td>\n",
       "      <td>16.43</td>\n",
       "      <td>59.14</td>\n",
       "      <td>60</td>\n",
       "      <td>0</td>\n",
       "      <td>1.07</td>\n",
       "      <td>NA</td>\n",
       "      <td>1595467016</td>\n",
       "    </tr>\n",
       "    <tr>\n",
       "      <th>520</th>\n",
       "      <td>aripuana</td>\n",
       "      <td>-9.17</td>\n",
       "      <td>-60.63</td>\n",
       "      <td>76.95</td>\n",
       "      <td>49</td>\n",
       "      <td>6</td>\n",
       "      <td>1.25</td>\n",
       "      <td>BR</td>\n",
       "      <td>1595467019</td>\n",
       "    </tr>\n",
       "    <tr>\n",
       "      <th>521</th>\n",
       "      <td>constitucion</td>\n",
       "      <td>-35.33</td>\n",
       "      <td>-72.42</td>\n",
       "      <td>48.42</td>\n",
       "      <td>77</td>\n",
       "      <td>2</td>\n",
       "      <td>3.27</td>\n",
       "      <td>CL</td>\n",
       "      <td>1595467020</td>\n",
       "    </tr>\n",
       "    <tr>\n",
       "      <th>528</th>\n",
       "      <td>kasulu</td>\n",
       "      <td>-4.58</td>\n",
       "      <td>30.10</td>\n",
       "      <td>66.20</td>\n",
       "      <td>77</td>\n",
       "      <td>0</td>\n",
       "      <td>3.49</td>\n",
       "      <td>TZ</td>\n",
       "      <td>1595467021</td>\n",
       "    </tr>\n",
       "    <tr>\n",
       "      <th>529</th>\n",
       "      <td>santiago del estero</td>\n",
       "      <td>-27.80</td>\n",
       "      <td>-64.26</td>\n",
       "      <td>59.65</td>\n",
       "      <td>46</td>\n",
       "      <td>100</td>\n",
       "      <td>3.62</td>\n",
       "      <td>AR</td>\n",
       "      <td>1595466878</td>\n",
       "    </tr>\n",
       "  </tbody>\n",
       "</table>\n",
       "<p>162 rows × 9 columns</p>\n",
       "</div>"
      ],
      "text/plain": [
       "                    City    Lat     Lng  Max Temp  Humidity  Cloudiness  \\\n",
       "1                rikitea -23.12 -134.97     66.94        65         100   \n",
       "3           punta arenas -53.15  -70.92     26.60        92          57   \n",
       "6                  alofi -19.06 -169.92     75.20        88          75   \n",
       "9                samarai -10.62  150.67     77.90        81          58   \n",
       "12           new norfolk -42.78  147.06     51.01        75         100   \n",
       "..                   ...    ...     ...       ...       ...         ...   \n",
       "507           oranjemund -28.55   16.43     59.14        60           0   \n",
       "520             aripuana  -9.17  -60.63     76.95        49           6   \n",
       "521         constitucion -35.33  -72.42     48.42        77           2   \n",
       "528               kasulu  -4.58   30.10     66.20        77           0   \n",
       "529  santiago del estero -27.80  -64.26     59.65        46         100   \n",
       "\n",
       "     Wind Speed Country        Date  \n",
       "1         14.67      PF  1595466759  \n",
       "3          4.70      CL  1595466722  \n",
       "6         16.11      NU  1595466807  \n",
       "9         12.01      PG  1595466880  \n",
       "12         5.01      AU  1595466787  \n",
       "..          ...     ...         ...  \n",
       "507        1.07      NA  1595467016  \n",
       "520        1.25      BR  1595467019  \n",
       "521        3.27      CL  1595467020  \n",
       "528        3.49      TZ  1595467021  \n",
       "529        3.62      AR  1595466878  \n",
       "\n",
       "[162 rows x 9 columns]"
      ]
     },
     "execution_count": 20,
     "metadata": {},
     "output_type": "execute_result"
    }
   ],
   "source": [
    "#southern hemisphere dataframe\n",
    "southern_cities = final_cities_df[final_cities_df[\"Lat\"] < 0]\n",
    "southern_cities"
   ]
  },
  {
   "cell_type": "markdown",
   "metadata": {},
   "source": [
    "####  Northern Hemisphere - Max Temp vs. Latitude Linear Regression"
   ]
  },
  {
   "cell_type": "code",
   "execution_count": 23,
   "metadata": {},
   "outputs": [
    {
     "name": "stdout",
     "output_type": "stream",
     "text": [
      "The linear regression equation is: y = -0.46x + 88.24\n",
      "The r-squared is: -0.67\n"
     ]
    },
    {
     "data": {
      "text/plain": [
       "Text(0, 0.5, 'Max Temp')"
      ]
     },
     "execution_count": 23,
     "metadata": {},
     "output_type": "execute_result"
    },
    {
     "data": {
      "image/png": "[encoded data removed]",
      "text/plain": [
       "<Figure size 432x288 with 1 Axes>"
      ]
     },
     "metadata": {
      "needs_background": "light"
     },
     "output_type": "display_data"
    }
   ],
   "source": [
    "# Northern Hemisphere - Max Temp vs. Latitude Linear Regression\n",
    "linear_regression_function(northern_cities[\"Lat\"], northern_cities[\"Max Temp\"])\n",
    "\n",
    "plt.title(\"Northern Hemisphere - Max Temp vs. Latitude Linear Regression\")\n",
    "plt.xlabel(\"Latitude\")\n",
    "plt.ylabel(\"Max Temp\")"
   ]
  },
  {
   "cell_type": "markdown",
   "metadata": {},
   "source": [
    "####  Southern Hemisphere - Max Temp vs. Latitude Linear Regression"
   ]
  },
  {
   "cell_type": "code",
   "execution_count": 24,
   "metadata": {},
   "outputs": [
    {
     "name": "stdout",
     "output_type": "stream",
     "text": [
      "The linear regression equation is: y = 0.78x + 80.02\n",
      "The r-squared is: 0.78\n"
     ]
    },
    {
     "data": {
      "text/plain": [
       "Text(0, 0.5, 'Max Temp')"
      ]
     },
     "execution_count": 24,
     "metadata": {},
     "output_type": "execute_result"
    },
    {
     "data": {
      "image/png": "[encoded data removed]",
      "text/plain": [
       "<Figure size 432x288 with 1 Axes>"
      ]
     },
     "metadata": {
      "needs_background": "light"
     },
     "output_type": "display_data"
    }
   ],
   "source": [
    "#Southern Hemisphere - Max Temp vs. Latitude Linear Regression\n",
    "linear_regression_function(southern_cities[\"Lat\"], southern_cities[\"Max Temp\"])\n",
    "\n",
    "plt.title(\"Southern Hemisphere - Max Temp vs. Latitude Linear Regression\")\n",
    "plt.xlabel(\"Latitude\")\n",
    "plt.ylabel(\"Max Temp\")"
   ]
  },
  {
   "cell_type": "markdown",
   "metadata": {},
   "source": [
    "####  Northern Hemisphere - Humidity (%) vs. Latitude Linear Regression"
   ]
  },
  {
   "cell_type": "code",
   "execution_count": 25,
   "metadata": {},
   "outputs": [
    {
     "name": "stdout",
     "output_type": "stream",
     "text": [
      "The linear regression equation is: y = 0.04x + 70.27\n",
      "The r-squared is: 0.04\n"
     ]
    },
    {
     "data": {
      "text/plain": [
       "Text(0, 0.5, 'Humidity')"
      ]
     },
     "execution_count": 25,
     "metadata": {},
     "output_type": "execute_result"
    },
    {
     "data": {
      "image/png": "[encoded data removed]",
      "text/plain": [
       "<Figure size 432x288 with 1 Axes>"
      ]
     },
     "metadata": {
      "needs_background": "light"
     },
     "output_type": "display_data"
    }
   ],
   "source": [
    "#Northern Hemisphere - Humidity (%) vs. Latitude Linear Regression\n",
    "linear_regression_function(northern_cities[\"Lat\"], northern_cities[\"Humidity\"])\n",
    "\n",
    "plt.title(\"Northern Hemisphere - Humidity vs. Latitude Linear Regression\")\n",
    "plt.xlabel(\"Latitude\")\n",
    "plt.ylabel(\"Humidity\")"
   ]
  },
  {
   "cell_type": "markdown",
   "metadata": {},
   "source": [
    "####  Southern Hemisphere - Humidity (%) vs. Latitude Linear Regression"
   ]
  },
  {
   "cell_type": "code",
   "execution_count": 26,
   "metadata": {},
   "outputs": [
    {
     "name": "stdout",
     "output_type": "stream",
     "text": [
      "The linear regression equation is: y = -0.14x + 68.61\n",
      "The r-squared is: -0.1\n"
     ]
    },
    {
     "data": {
      "text/plain": [
       "Text(0, 0.5, 'Humidity')"
      ]
     },
     "execution_count": 26,
     "metadata": {},
     "output_type": "execute_result"
    },
    {
     "data": {
      "image/png": "[encoded data removed]",
      "text/plain": [
       "<Figure size 432x288 with 1 Axes>"
      ]
     },
     "metadata": {
      "needs_background": "light"
     },
     "output_type": "display_data"
    }
   ],
   "source": [
    "# Southern Hemisphere - Humidity (%) vs. Latitude Linear Regression\n",
    "linear_regression_function(southern_cities[\"Lat\"], southern_cities[\"Humidity\"])\n",
    "\n",
    "plt.title(\"Southern Hemisphere - Humidity vs. Latitude Linear Regression\")\n",
    "plt.xlabel(\"Latitude\")\n",
    "plt.ylabel(\"Humidity\")"
   ]
  },
  {
   "cell_type": "markdown",
   "metadata": {},
   "source": [
    "####  Northern Hemisphere - Cloudiness (%) vs. Latitude Linear Regression"
   ]
  },
  {
   "cell_type": "code",
   "execution_count": 27,
   "metadata": {},
   "outputs": [
    {
     "name": "stdout",
     "output_type": "stream",
     "text": [
      "The linear regression equation is: y = 0.01x + 52.82\n",
      "The r-squared is: 0.0\n"
     ]
    },
    {
     "data": {
      "text/plain": [
       "Text(0, 0.5, 'Humidity')"
      ]
     },
     "execution_count": 27,
     "metadata": {},
     "output_type": "execute_result"
    },
    {
     "data": {
      "image/png": "[encoded data removed]",
      "text/plain": [
       "<Figure size 432x288 with 1 Axes>"
      ]
     },
     "metadata": {
      "needs_background": "light"
     },
     "output_type": "display_data"
    }
   ],
   "source": [
    "# Northern Hemisphere - Cloudiness (%) vs. Latitude Linear Regression\n",
    "linear_regression_function(northern_cities[\"Lat\"], northern_cities[\"Cloudiness\"])\n",
    "\n",
    "plt.title(\"Northern Hemisphere - Cloudiness vs. Latitude Linear Regression\")\n",
    "plt.xlabel(\"Latitude\")\n",
    "plt.ylabel(\"Humidity\")"
   ]
  },
  {
   "cell_type": "markdown",
   "metadata": {},
   "source": [
    "####  Southern Hemisphere - Cloudiness (%) vs. Latitude Linear Regression"
   ]
  },
  {
   "cell_type": "code",
   "execution_count": 28,
   "metadata": {},
   "outputs": [
    {
     "name": "stdout",
     "output_type": "stream",
     "text": [
      "The linear regression equation is: y = -0.39x + 36.86\n",
      "The r-squared is: -0.13\n"
     ]
    },
    {
     "data": {
      "text/plain": [
       "Text(0, 0.5, 'Humidity')"
      ]
     },
     "execution_count": 28,
     "metadata": {},
     "output_type": "execute_result"
    },
    {
     "data": {
      "image/png": "[encoded data removed]",
      "text/plain": [
       "<Figure size 432x288 with 1 Axes>"
      ]
     },
     "metadata": {
      "needs_background": "light"
     },
     "output_type": "display_data"
    }
   ],
   "source": [
    "# Southern Hemisphere - Cloudiness (%) vs. Latitude Linear Regression\n",
    "linear_regression_function(southern_cities[\"Lat\"], southern_cities[\"Cloudiness\"])\n",
    "\n",
    "plt.title(\"Southern Hemisphere - Cloudiness vs. Latitude Linear Regression\")\n",
    "plt.xlabel(\"Latitude\")\n",
    "plt.ylabel(\"Humidity\")"
   ]
  },
  {
   "cell_type": "markdown",
   "metadata": {},
   "source": [
    "####  Northern Hemisphere - Wind Speed (mph) vs. Latitude Linear Regression"
   ]
  },
  {
   "cell_type": "code",
   "execution_count": 29,
   "metadata": {},
   "outputs": [
    {
     "name": "stdout",
     "output_type": "stream",
     "text": [
      "The linear regression equation is: y = 0.01x + 7.13\n",
      "The r-squared is: 0.05\n"
     ]
    },
    {
     "data": {
      "text/plain": [
       "Text(0, 0.5, 'Wind Speed')"
      ]
     },
     "execution_count": 29,
     "metadata": {},
     "output_type": "execute_result"
    },
    {
     "data": {
      "image/png": "[encoded data removed]",
      "text/plain": [
       "<Figure size 432x288 with 1 Axes>"
      ]
     },
     "metadata": {
      "needs_background": "light"
     },
     "output_type": "display_data"
    }
   ],
   "source": [
    "# Northern Hemisphere - Wind Speed (mph) vs. Latitude Linear Regression\n",
    "linear_regression_function(northern_cities[\"Lat\"], northern_cities[\"Wind Speed\"])\n",
    "\n",
    "plt.title(\"Northern Hemisphere - Wind Speed vs. Latitude Linear Regression\")\n",
    "plt.xlabel(\"Latitude\")\n",
    "plt.ylabel(\"Wind Speed\")"
   ]
  },
  {
   "cell_type": "markdown",
   "metadata": {},
   "source": [
    "####  Southern Hemisphere - Wind Speed (mph) vs. Latitude Linear Regression"
   ]
  },
  {
   "cell_type": "code",
   "execution_count": 30,
   "metadata": {},
   "outputs": [
    {
     "name": "stdout",
     "output_type": "stream",
     "text": [
      "The linear regression equation is: y = 0.02x + 7.89\n",
      "The r-squared is: 0.06\n"
     ]
    },
    {
     "data": {
      "text/plain": [
       "Text(0, 0.5, 'Wind Speed')"
      ]
     },
     "execution_count": 30,
     "metadata": {},
     "output_type": "execute_result"
    },
    {
     "data": {
      "image/png": "[encoded data removed]",
      "text/plain": [
       "<Figure size 432x288 with 1 Axes>"
      ]
     },
     "metadata": {
      "needs_background": "light"
     },
     "output_type": "display_data"
    }
   ],
   "source": [
    "# Southern Hemisphere - Wind Speed (mph) vs. Latitude Linear Regression\n",
    "linear_regression_function(southern_cities[\"Lat\"], southern_cities[\"Wind Speed\"])\n",
    "\n",
    "plt.title(\"Southern Hemisphere - Wind Speed vs. Latitude Linear Regression\")\n",
    "plt.xlabel(\"Latitude\")\n",
    "plt.ylabel(\"Wind Speed\")"
   ]
  },
  {
   "cell_type": "code",
   "execution_count": null,
   "metadata": {},
   "outputs": [],
   "source": []
  }
 ],
 "metadata": {
  "anaconda-cloud": {},
  "kernel_info": {
   "name": "python3"
  },
  "kernelspec": {
   "display_name": "Python 3",
   "language": "python",
   "name": "python3"
  },
  "language_info": {
   "codemirror_mode": {
    "name": "ipython",
    "version": 3
   },
   "file_extension": ".py",
   "mimetype": "text/x-python",
   "name": "python",
   "nbconvert_exporter": "python",
   "pygments_lexer": "ipython3",
   "version": "3.7.7"
  },
  "latex_envs": {
   "LaTeX_envs_menu_present": true,
   "autoclose": false,
   "autocomplete": true,
   "bibliofile": "biblio.bib",
   "cite_by": "apalike",
   "current_citInitial": 1,
   "eqLabelWithNumbers": true,
   "eqNumInitial": 1,
   "hotkeys": {
    "equation": "Ctrl-E",
    "itemize": "Ctrl-I"
   },
   "labels_anchors": false,
   "latex_user_defs": false,
   "report_style_numbering": false,
   "user_envs_cfg": false
  },
  "nteract": {
   "version": "0.12.3"
  }
 },
 "nbformat": 4,
 "nbformat_minor": 2
}
